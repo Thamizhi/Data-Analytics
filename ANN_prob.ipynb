{
  "nbformat": 4,
  "nbformat_minor": 0,
  "metadata": {
    "colab": {
      "name": "ANN_prob.ipynb",
      "version": "0.3.2",
      "provenance": [],
      "include_colab_link": true
    },
    "kernelspec": {
      "name": "python3",
      "display_name": "Python 3"
    }
  },
  "cells": [
    {
      "cell_type": "markdown",
      "metadata": {
        "id": "view-in-github",
        "colab_type": "text"
      },
      "source": [
        "<a href=\"https://colab.research.google.com/github/Thamizhi/Data-Analytics/blob/master/ANN_prob.ipynb\" target=\"_parent\"><img src=\"https://colab.research.google.com/assets/colab-badge.svg\" alt=\"Open In Colab\"/></a>"
      ]
    },
    {
      "cell_type": "code",
      "metadata": {
        "id": "mKSbDHlSZ-iN",
        "colab_type": "code",
        "outputId": "0a1d14da-c497-4a31-b36e-4e98331e422e",
        "colab": {
          "base_uri": "https://localhost:8080/",
          "height": 34
        }
      },
      "source": [
        "from keras.models import Sequential\n",
        "from keras.layers import Dense\n",
        "import numpy as np\n",
        "from keras import optimizers\n",
        "optimizers.Adam(lr=0.9)\n"
      ],
      "execution_count": 0,
      "outputs": [
        {
          "output_type": "execute_result",
          "data": {
            "text/plain": [
              "<keras.optimizers.Adam at 0x7f1f3236cc18>"
            ]
          },
          "metadata": {
            "tags": []
          },
          "execution_count": 18
        }
      ]
    },
    {
      "cell_type": "code",
      "metadata": {
        "id": "PaAMIhYydiMl",
        "colab_type": "code",
        "colab": {}
      },
      "source": [
        "from sklearn.model_selection import train_test_split"
      ],
      "execution_count": 0,
      "outputs": []
    },
    {
      "cell_type": "code",
      "metadata": {
        "id": "aUsCJB9bek33",
        "colab_type": "code",
        "colab": {}
      },
      "source": [
        "#Given input and output\n",
        "ip_layer=np.array([[1,0,1]])\n",
        "op_layer=np.array([[1,0]])\n"
      ],
      "execution_count": 0,
      "outputs": []
    },
    {
      "cell_type": "code",
      "metadata": {
        "id": "ifZVz998e_VX",
        "colab_type": "code",
        "colab": {}
      },
      "source": [
        "#input layer, two hidden layers and output layer\n",
        "model=Sequential()\n",
        "h1=model.add(Dense(2,activation=\"sigmoid\",input_dim=3))\n",
        "h2=model.add(Dense(3,activation=\"sigmoid\"))\n",
        "\n",
        "o = model.add(Dense(2,activation=\"sigmoid\"))"
      ],
      "execution_count": 0,
      "outputs": []
    },
    {
      "cell_type": "code",
      "metadata": {
        "id": "gugLXSwQhIya",
        "colab_type": "code",
        "colab": {}
      },
      "source": [
        "#assigning weights and biases\n",
        "weights1=np.array([[0.2,-0.3],[0.4,0.1],[-0.5,0.2]])\n",
        "weights2=np.array([[-0.3,0.2,0.6],[-0.2,-0.1,-0.2]])\n",
        "weights3=np.array([[0.3,0.2],[-0.5,0.5],[-0.7,0.2]])\n",
        "bias1=np.array([-0.4,0.2])\n",
        "bias2=np.array([0.1,0.1,0.2])\n",
        "bias3=np.array([0.1,0.2])\n",
        "l=[]\n",
        "l.append(weights1)\n",
        "l.append(bias1)\n",
        "model.layers[0].set_weights(l)\n",
        "l=[]\n",
        "l.append(weights2)\n",
        "l.append(bias2)\n",
        "model.layers[1].set_weights(l)\n",
        "l=[]\n",
        "l.append(weights3)\n",
        "l.append(bias3)\n",
        "model.layers[2].set_weights(l)\n"
      ],
      "execution_count": 0,
      "outputs": []
    },
    {
      "cell_type": "code",
      "metadata": {
        "id": "755K4BWmsKtr",
        "colab_type": "code",
        "outputId": "ce536461-4f32-4c2b-c3a4-771b42df7e12",
        "colab": {
          "base_uri": "https://localhost:8080/",
          "height": 68
        }
      },
      "source": [
        "model.layers[0].get_weights()\n"
      ],
      "execution_count": 0,
      "outputs": [
        {
          "output_type": "execute_result",
          "data": {
            "text/plain": [
              "[array([[ 0.2, -0.3],\n",
              "        [ 0.4,  0.1],\n",
              "        [-0.5,  0.2]], dtype=float32), array([-0.4,  0.2], dtype=float32)]"
            ]
          },
          "metadata": {
            "tags": []
          },
          "execution_count": 23
        }
      ]
    },
    {
      "cell_type": "code",
      "metadata": {
        "id": "waWs-PEOsRQy",
        "colab_type": "code",
        "outputId": "95a569b5-7711-4906-f1fe-b4d3902d9a77",
        "colab": {
          "base_uri": "https://localhost:8080/",
          "height": 68
        }
      },
      "source": [
        "model.layers[1].get_weights()\n"
      ],
      "execution_count": 0,
      "outputs": [
        {
          "output_type": "execute_result",
          "data": {
            "text/plain": [
              "[array([[-0.3,  0.2,  0.6],\n",
              "        [-0.2, -0.1, -0.2]], dtype=float32),\n",
              " array([0.1, 0.1, 0.2], dtype=float32)]"
            ]
          },
          "metadata": {
            "tags": []
          },
          "execution_count": 24
        }
      ]
    },
    {
      "cell_type": "code",
      "metadata": {
        "id": "L7KSoNaWsSta",
        "colab_type": "code",
        "outputId": "ecc8ec60-857e-411d-8a4b-136da0e29366",
        "colab": {
          "base_uri": "https://localhost:8080/",
          "height": 68
        }
      },
      "source": [
        "model.layers[2].get_weights()"
      ],
      "execution_count": 0,
      "outputs": [
        {
          "output_type": "execute_result",
          "data": {
            "text/plain": [
              "[array([[ 0.3,  0.2],\n",
              "        [-0.5,  0.5],\n",
              "        [-0.7,  0.2]], dtype=float32), array([0.1, 0.2], dtype=float32)]"
            ]
          },
          "metadata": {
            "tags": []
          },
          "execution_count": 25
        }
      ]
    },
    {
      "cell_type": "code",
      "metadata": {
        "id": "EPxR-pDAkv1t",
        "colab_type": "code",
        "colab": {}
      },
      "source": [
        "#error calculation\n",
        "model.compile(loss=\"mean_squared_error\",optimizer=\"Adam\",metrics=['accuracy'])\n"
      ],
      "execution_count": 0,
      "outputs": []
    },
    {
      "cell_type": "code",
      "metadata": {
        "id": "lb-Doav6k1_-",
        "colab_type": "code",
        "outputId": "3ae504fa-a6b3-44be-dc34-7314aeee7696",
        "colab": {
          "base_uri": "https://localhost:8080/",
          "height": 238
        }
      },
      "source": [
        "model.summary()"
      ],
      "execution_count": 0,
      "outputs": [
        {
          "output_type": "stream",
          "text": [
            "_________________________________________________________________\n",
            "Layer (type)                 Output Shape              Param #   \n",
            "=================================================================\n",
            "dense_4 (Dense)              (None, 2)                 8         \n",
            "_________________________________________________________________\n",
            "dense_5 (Dense)              (None, 3)                 9         \n",
            "_________________________________________________________________\n",
            "dense_6 (Dense)              (None, 2)                 8         \n",
            "=================================================================\n",
            "Total params: 25\n",
            "Trainable params: 25\n",
            "Non-trainable params: 0\n",
            "_________________________________________________________________\n"
          ],
          "name": "stdout"
        }
      ]
    },
    {
      "cell_type": "code",
      "metadata": {
        "id": "PZokk9ynk-KV",
        "colab_type": "code",
        "outputId": "4cab2e25-d093-4489-d8e7-6d1eb93a1e3c",
        "colab": {
          "base_uri": "https://localhost:8080/",
          "height": 1000
        }
      },
      "source": [
        "#fitting the model\n",
        "model.fit(ip_layer,op_layer,batch_size=1,epochs=100)"
      ],
      "execution_count": 0,
      "outputs": [
        {
          "output_type": "stream",
          "text": [
            "Epoch 1/100\n",
            "1/1 [==============================] - 0s 249ms/step - loss: 0.4019 - acc: 0.0000e+00\n",
            "Epoch 2/100\n",
            "1/1 [==============================] - 0s 3ms/step - loss: 0.4012 - acc: 0.0000e+00\n",
            "Epoch 3/100\n",
            "1/1 [==============================] - 0s 3ms/step - loss: 0.4004 - acc: 0.0000e+00\n",
            "Epoch 4/100\n",
            "1/1 [==============================] - 0s 1ms/step - loss: 0.3996 - acc: 0.0000e+00\n",
            "Epoch 5/100\n",
            "1/1 [==============================] - 0s 1ms/step - loss: 0.3987 - acc: 0.0000e+00\n",
            "Epoch 6/100\n",
            "1/1 [==============================] - 0s 2ms/step - loss: 0.3979 - acc: 0.0000e+00\n",
            "Epoch 7/100\n",
            "1/1 [==============================] - 0s 1ms/step - loss: 0.3970 - acc: 0.0000e+00\n",
            "Epoch 8/100\n",
            "1/1 [==============================] - 0s 1ms/step - loss: 0.3961 - acc: 0.0000e+00\n",
            "Epoch 9/100\n",
            "1/1 [==============================] - 0s 1ms/step - loss: 0.3952 - acc: 0.0000e+00\n",
            "Epoch 10/100\n",
            "1/1 [==============================] - 0s 1ms/step - loss: 0.3943 - acc: 0.0000e+00\n",
            "Epoch 11/100\n",
            "1/1 [==============================] - 0s 1ms/step - loss: 0.3934 - acc: 0.0000e+00\n",
            "Epoch 12/100\n",
            "1/1 [==============================] - 0s 1ms/step - loss: 0.3925 - acc: 0.0000e+00\n",
            "Epoch 13/100\n",
            "1/1 [==============================] - 0s 3ms/step - loss: 0.3916 - acc: 0.0000e+00\n",
            "Epoch 14/100\n",
            "1/1 [==============================] - 0s 4ms/step - loss: 0.3907 - acc: 0.0000e+00\n",
            "Epoch 15/100\n",
            "1/1 [==============================] - 0s 4ms/step - loss: 0.3898 - acc: 0.0000e+00\n",
            "Epoch 16/100\n",
            "1/1 [==============================] - 0s 1ms/step - loss: 0.3889 - acc: 0.0000e+00\n",
            "Epoch 17/100\n",
            "1/1 [==============================] - 0s 3ms/step - loss: 0.3880 - acc: 0.0000e+00\n",
            "Epoch 18/100\n",
            "1/1 [==============================] - 0s 2ms/step - loss: 0.3871 - acc: 0.0000e+00\n",
            "Epoch 19/100\n",
            "1/1 [==============================] - 0s 2ms/step - loss: 0.3861 - acc: 0.0000e+00\n",
            "Epoch 20/100\n",
            "1/1 [==============================] - 0s 2ms/step - loss: 0.3852 - acc: 0.0000e+00\n",
            "Epoch 21/100\n",
            "1/1 [==============================] - 0s 2ms/step - loss: 0.3843 - acc: 0.0000e+00\n",
            "Epoch 22/100\n",
            "1/1 [==============================] - 0s 1ms/step - loss: 0.3834 - acc: 0.0000e+00\n",
            "Epoch 23/100\n",
            "1/1 [==============================] - 0s 2ms/step - loss: 0.3825 - acc: 0.0000e+00\n",
            "Epoch 24/100\n",
            "1/1 [==============================] - 0s 2ms/step - loss: 0.3816 - acc: 0.0000e+00\n",
            "Epoch 25/100\n",
            "1/1 [==============================] - 0s 3ms/step - loss: 0.3807 - acc: 0.0000e+00\n",
            "Epoch 26/100\n",
            "1/1 [==============================] - 0s 2ms/step - loss: 0.3798 - acc: 0.0000e+00\n",
            "Epoch 27/100\n",
            "1/1 [==============================] - 0s 2ms/step - loss: 0.3789 - acc: 0.0000e+00\n",
            "Epoch 28/100\n",
            "1/1 [==============================] - 0s 2ms/step - loss: 0.3780 - acc: 0.0000e+00\n",
            "Epoch 29/100\n",
            "1/1 [==============================] - 0s 2ms/step - loss: 0.3771 - acc: 0.0000e+00\n",
            "Epoch 30/100\n",
            "1/1 [==============================] - 0s 2ms/step - loss: 0.3762 - acc: 0.0000e+00\n",
            "Epoch 31/100\n",
            "1/1 [==============================] - 0s 2ms/step - loss: 0.3753 - acc: 0.0000e+00\n",
            "Epoch 32/100\n",
            "1/1 [==============================] - 0s 2ms/step - loss: 0.3744 - acc: 0.0000e+00\n",
            "Epoch 33/100\n",
            "1/1 [==============================] - 0s 2ms/step - loss: 0.3736 - acc: 0.0000e+00\n",
            "Epoch 34/100\n",
            "1/1 [==============================] - 0s 2ms/step - loss: 0.3727 - acc: 0.0000e+00\n",
            "Epoch 35/100\n",
            "1/1 [==============================] - 0s 2ms/step - loss: 0.3718 - acc: 0.0000e+00\n",
            "Epoch 36/100\n",
            "1/1 [==============================] - 0s 2ms/step - loss: 0.3709 - acc: 0.0000e+00\n",
            "Epoch 37/100\n",
            "1/1 [==============================] - 0s 2ms/step - loss: 0.3700 - acc: 0.0000e+00\n",
            "Epoch 38/100\n",
            "1/1 [==============================] - 0s 3ms/step - loss: 0.3691 - acc: 0.0000e+00\n",
            "Epoch 39/100\n",
            "1/1 [==============================] - 0s 2ms/step - loss: 0.3682 - acc: 0.0000e+00\n",
            "Epoch 40/100\n",
            "1/1 [==============================] - 0s 3ms/step - loss: 0.3673 - acc: 0.0000e+00\n",
            "Epoch 41/100\n",
            "1/1 [==============================] - 0s 1ms/step - loss: 0.3664 - acc: 0.0000e+00\n",
            "Epoch 42/100\n",
            "1/1 [==============================] - 0s 1ms/step - loss: 0.3656 - acc: 0.0000e+00\n",
            "Epoch 43/100\n",
            "1/1 [==============================] - 0s 2ms/step - loss: 0.3647 - acc: 0.0000e+00\n",
            "Epoch 44/100\n",
            "1/1 [==============================] - 0s 3ms/step - loss: 0.3638 - acc: 0.0000e+00\n",
            "Epoch 45/100\n",
            "1/1 [==============================] - 0s 4ms/step - loss: 0.3629 - acc: 0.0000e+00\n",
            "Epoch 46/100\n",
            "1/1 [==============================] - 0s 2ms/step - loss: 0.3621 - acc: 0.0000e+00\n",
            "Epoch 47/100\n",
            "1/1 [==============================] - 0s 3ms/step - loss: 0.3612 - acc: 0.0000e+00\n",
            "Epoch 48/100\n",
            "1/1 [==============================] - 0s 4ms/step - loss: 0.3603 - acc: 0.0000e+00\n",
            "Epoch 49/100\n",
            "1/1 [==============================] - 0s 1ms/step - loss: 0.3594 - acc: 0.0000e+00\n",
            "Epoch 50/100\n",
            "1/1 [==============================] - 0s 2ms/step - loss: 0.3586 - acc: 0.0000e+00\n",
            "Epoch 51/100\n",
            "1/1 [==============================] - 0s 4ms/step - loss: 0.3577 - acc: 0.0000e+00\n",
            "Epoch 52/100\n",
            "1/1 [==============================] - 0s 3ms/step - loss: 0.3568 - acc: 0.0000e+00\n",
            "Epoch 53/100\n",
            "1/1 [==============================] - 0s 3ms/step - loss: 0.3560 - acc: 0.0000e+00\n",
            "Epoch 54/100\n",
            "1/1 [==============================] - 0s 1ms/step - loss: 0.3551 - acc: 0.0000e+00\n",
            "Epoch 55/100\n",
            "1/1 [==============================] - 0s 1ms/step - loss: 0.3542 - acc: 0.0000e+00\n",
            "Epoch 56/100\n",
            "1/1 [==============================] - 0s 2ms/step - loss: 0.3534 - acc: 0.0000e+00\n",
            "Epoch 57/100\n",
            "1/1 [==============================] - 0s 1ms/step - loss: 0.3525 - acc: 0.0000e+00\n",
            "Epoch 58/100\n",
            "1/1 [==============================] - 0s 2ms/step - loss: 0.3517 - acc: 0.0000e+00\n",
            "Epoch 59/100\n",
            "1/1 [==============================] - 0s 1ms/step - loss: 0.3508 - acc: 0.0000e+00\n",
            "Epoch 60/100\n",
            "1/1 [==============================] - 0s 1ms/step - loss: 0.3500 - acc: 0.0000e+00\n",
            "Epoch 61/100\n",
            "1/1 [==============================] - 0s 2ms/step - loss: 0.3491 - acc: 0.0000e+00\n",
            "Epoch 62/100\n",
            "1/1 [==============================] - 0s 2ms/step - loss: 0.3482 - acc: 0.0000e+00\n",
            "Epoch 63/100\n",
            "1/1 [==============================] - 0s 2ms/step - loss: 0.3474 - acc: 0.0000e+00\n",
            "Epoch 64/100\n",
            "1/1 [==============================] - 0s 1ms/step - loss: 0.3465 - acc: 0.0000e+00\n",
            "Epoch 65/100\n",
            "1/1 [==============================] - 0s 1ms/step - loss: 0.3457 - acc: 0.0000e+00\n",
            "Epoch 66/100\n",
            "1/1 [==============================] - 0s 2ms/step - loss: 0.3448 - acc: 0.0000e+00\n",
            "Epoch 67/100\n",
            "1/1 [==============================] - 0s 1ms/step - loss: 0.3440 - acc: 0.0000e+00\n",
            "Epoch 68/100\n",
            "1/1 [==============================] - 0s 1ms/step - loss: 0.3432 - acc: 0.0000e+00\n",
            "Epoch 69/100\n",
            "1/1 [==============================] - 0s 2ms/step - loss: 0.3423 - acc: 0.0000e+00\n",
            "Epoch 70/100\n",
            "1/1 [==============================] - 0s 2ms/step - loss: 0.3415 - acc: 0.0000e+00\n",
            "Epoch 71/100\n",
            "1/1 [==============================] - 0s 2ms/step - loss: 0.3406 - acc: 0.0000e+00\n",
            "Epoch 72/100\n",
            "1/1 [==============================] - 0s 4ms/step - loss: 0.3398 - acc: 0.0000e+00\n",
            "Epoch 73/100\n",
            "1/1 [==============================] - 0s 2ms/step - loss: 0.3390 - acc: 0.0000e+00\n",
            "Epoch 74/100\n",
            "1/1 [==============================] - 0s 2ms/step - loss: 0.3381 - acc: 0.0000e+00\n",
            "Epoch 75/100\n",
            "1/1 [==============================] - 0s 2ms/step - loss: 0.3373 - acc: 0.0000e+00\n",
            "Epoch 76/100\n",
            "1/1 [==============================] - 0s 2ms/step - loss: 0.3364 - acc: 0.0000e+00\n",
            "Epoch 77/100\n",
            "1/1 [==============================] - 0s 2ms/step - loss: 0.3356 - acc: 0.0000e+00\n",
            "Epoch 78/100\n",
            "1/1 [==============================] - 0s 2ms/step - loss: 0.3348 - acc: 0.0000e+00\n",
            "Epoch 79/100\n",
            "1/1 [==============================] - 0s 2ms/step - loss: 0.3339 - acc: 0.0000e+00\n",
            "Epoch 80/100\n",
            "1/1 [==============================] - 0s 5ms/step - loss: 0.3331 - acc: 0.0000e+00\n",
            "Epoch 81/100\n",
            "1/1 [==============================] - 0s 3ms/step - loss: 0.3323 - acc: 0.0000e+00\n",
            "Epoch 82/100\n",
            "1/1 [==============================] - 0s 3ms/step - loss: 0.3315 - acc: 0.0000e+00\n",
            "Epoch 83/100\n",
            "1/1 [==============================] - 0s 3ms/step - loss: 0.3306 - acc: 0.0000e+00\n",
            "Epoch 84/100\n",
            "1/1 [==============================] - 0s 2ms/step - loss: 0.3298 - acc: 0.0000e+00\n",
            "Epoch 85/100\n",
            "1/1 [==============================] - 0s 2ms/step - loss: 0.3290 - acc: 0.0000e+00\n",
            "Epoch 86/100\n",
            "1/1 [==============================] - 0s 2ms/step - loss: 0.3282 - acc: 0.0000e+00\n",
            "Epoch 87/100\n",
            "1/1 [==============================] - 0s 2ms/step - loss: 0.3274 - acc: 0.0000e+00\n",
            "Epoch 88/100\n",
            "1/1 [==============================] - 0s 2ms/step - loss: 0.3265 - acc: 0.0000e+00\n",
            "Epoch 89/100\n",
            "1/1 [==============================] - 0s 2ms/step - loss: 0.3257 - acc: 0.0000e+00\n",
            "Epoch 90/100\n",
            "1/1 [==============================] - 0s 2ms/step - loss: 0.3249 - acc: 0.0000e+00\n",
            "Epoch 91/100\n",
            "1/1 [==============================] - 0s 2ms/step - loss: 0.3241 - acc: 0.0000e+00\n",
            "Epoch 92/100\n",
            "1/1 [==============================] - 0s 2ms/step - loss: 0.3233 - acc: 0.0000e+00\n",
            "Epoch 93/100\n",
            "1/1 [==============================] - 0s 3ms/step - loss: 0.3225 - acc: 0.0000e+00\n",
            "Epoch 94/100\n",
            "1/1 [==============================] - 0s 2ms/step - loss: 0.3217 - acc: 0.0000e+00\n",
            "Epoch 95/100\n",
            "1/1 [==============================] - 0s 2ms/step - loss: 0.3209 - acc: 0.0000e+00\n",
            "Epoch 96/100\n",
            "1/1 [==============================] - 0s 2ms/step - loss: 0.3201 - acc: 0.0000e+00\n",
            "Epoch 97/100\n",
            "1/1 [==============================] - 0s 2ms/step - loss: 0.3193 - acc: 0.0000e+00\n",
            "Epoch 98/100\n",
            "1/1 [==============================] - 0s 3ms/step - loss: 0.3185 - acc: 0.0000e+00\n",
            "Epoch 99/100\n",
            "1/1 [==============================] - 0s 3ms/step - loss: 0.3177 - acc: 0.0000e+00\n",
            "Epoch 100/100\n",
            "1/1 [==============================] - 0s 2ms/step - loss: 0.3169 - acc: 0.0000e+00\n"
          ],
          "name": "stdout"
        },
        {
          "output_type": "execute_result",
          "data": {
            "text/plain": [
              "<keras.callbacks.History at 0x7f1f29c38da0>"
            ]
          },
          "metadata": {
            "tags": []
          },
          "execution_count": 28
        }
      ]
    }
  ]
}