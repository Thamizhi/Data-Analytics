{
  "nbformat": 4,
  "nbformat_minor": 0,
  "metadata": {
    "colab": {
      "name": "Iris_Data_ANN.ipynb",
      "version": "0.3.2",
      "provenance": [],
      "include_colab_link": true
    },
    "kernelspec": {
      "name": "python3",
      "display_name": "Python 3"
    }
  },
  "cells": [
    {
      "cell_type": "markdown",
      "metadata": {
        "id": "view-in-github",
        "colab_type": "text"
      },
      "source": [
        "<a href=\"https://colab.research.google.com/github/Thamizhi/Data-Analytics/blob/master/Iris_Data_ANN.ipynb\" target=\"_parent\"><img src=\"https://colab.research.google.com/assets/colab-badge.svg\" alt=\"Open In Colab\"/></a>"
      ]
    },
    {
      "cell_type": "code",
      "metadata": {
        "id": "kgOHYt5YjUJ4",
        "colab_type": "code",
        "outputId": "acda5563-064b-4638-c285-5537fb29adad",
        "colab": {
          "base_uri": "https://localhost:8080/",
          "height": 34
        }
      },
      "source": [
        "#importing keras and numpy libraries\n",
        "from keras.models import Sequential\n",
        "from keras.layers import Dense\n",
        "import numpy as np"
      ],
      "execution_count": 0,
      "outputs": [
        {
          "output_type": "stream",
          "text": [
            "Using TensorFlow backend.\n"
          ],
          "name": "stderr"
        }
      ]
    },
    {
      "cell_type": "code",
      "metadata": {
        "id": "8M743G0MjeQ-",
        "colab_type": "code",
        "colab": {}
      },
      "source": [
        "#importing sklearn and datasets\n",
        "from sklearn.datasets import load_iris\n",
        "from sklearn.preprocessing import StandardScaler,OneHotEncoder\n",
        "from sklearn.model_selection import train_test_split"
      ],
      "execution_count": 0,
      "outputs": []
    },
    {
      "cell_type": "code",
      "metadata": {
        "id": "MaqPmsv2jkWb",
        "colab_type": "code",
        "colab": {}
      },
      "source": [
        "#loading the iris dataset\n",
        "iris = load_iris()"
      ],
      "execution_count": 0,
      "outputs": []
    },
    {
      "cell_type": "code",
      "metadata": {
        "id": "ghaA_tr6jpej",
        "colab_type": "code",
        "outputId": "92248a8c-2807-4207-9cb2-b7d35dc2f783",
        "colab": {
          "base_uri": "https://localhost:8080/",
          "height": 52
        }
      },
      "source": [
        "print(iris.feature_names)\n",
        "print(iris.target_names)\n",
        "input_data = iris.data\n",
        "target_class = iris.target"
      ],
      "execution_count": 0,
      "outputs": [
        {
          "output_type": "stream",
          "text": [
            "['sepal length (cm)', 'sepal width (cm)', 'petal length (cm)', 'petal width (cm)']\n",
            "['setosa' 'versicolor' 'virginica']\n"
          ],
          "name": "stdout"
        }
      ]
    },
    {
      "cell_type": "code",
      "metadata": {
        "id": "I82nOcYajuy_",
        "colab_type": "code",
        "colab": {}
      },
      "source": [
        "#standardize features by removing the mean and scaling to unit variance\n",
        "scaler = StandardScaler()\n",
        "input_scaled = scaler.fit_transform(input_data)"
      ],
      "execution_count": 0,
      "outputs": []
    },
    {
      "cell_type": "code",
      "metadata": {
        "id": "H7RpcvSXkDvy",
        "colab_type": "code",
        "outputId": "b5af6d03-3106-4b96-9f9a-7c9d8695b0de",
        "colab": {
          "base_uri": "https://localhost:8080/",
          "height": 107
        }
      },
      "source": [
        "#encode categorical integer features a s a one-hot numeric array\n",
        "enc = OneHotEncoder()\n",
        "hot_target_class = enc.fit_transform(target_class[:, np.newaxis]).toarray()"
      ],
      "execution_count": 0,
      "outputs": [
        {
          "output_type": "stream",
          "text": [
            "/usr/local/lib/python3.6/dist-packages/sklearn/preprocessing/_encoders.py:415: FutureWarning: The handling of integer data will change in version 0.22. Currently, the categories are determined based on the range [0, max(values)], while in the future they will be determined based on the unique values.\n",
            "If you want the future behaviour and silence this warning, you can specify \"categories='auto'\".\n",
            "In case you used a LabelEncoder before this OneHotEncoder to convert the categories to integers, then you can now use the OneHotEncoder directly.\n",
            "  warnings.warn(msg, FutureWarning)\n"
          ],
          "name": "stderr"
        }
      ]
    },
    {
      "cell_type": "code",
      "metadata": {
        "id": "ajvhepqBkYsP",
        "colab_type": "code",
        "colab": {}
      },
      "source": [
        "#splitting into training and testing sets\n",
        "x_train,x_test,y_train,y_test = train_test_split(input_scaled,hot_target_class,test_size=0.3)"
      ],
      "execution_count": 0,
      "outputs": []
    },
    {
      "cell_type": "code",
      "metadata": {
        "id": "YAerBGswlCKj",
        "colab_type": "code",
        "outputId": "7478208c-a875-4d7b-bf78-b6667c9f3155",
        "colab": {
          "base_uri": "https://localhost:8080/",
          "height": 90
        }
      },
      "source": [
        "#to create an ANN model\n",
        "model = Sequential()"
      ],
      "execution_count": 0,
      "outputs": [
        {
          "output_type": "stream",
          "text": [
            "WARNING: Logging before flag parsing goes to stderr.\n",
            "W0820 05:47:56.212888 140410464614272 deprecation_wrapper.py:119] From /usr/local/lib/python3.6/dist-packages/keras/backend/tensorflow_backend.py:74: The name tf.get_default_graph is deprecated. Please use tf.compat.v1.get_default_graph instead.\n",
            "\n"
          ],
          "name": "stderr"
        }
      ]
    },
    {
      "cell_type": "code",
      "metadata": {
        "id": "KiFTpskClIYu",
        "colab_type": "code",
        "outputId": "46f92b41-fc48-4b19-a2cf-9548499db00c",
        "colab": {
          "base_uri": "https://localhost:8080/",
          "height": 107
        }
      },
      "source": [
        "#adding layers to the ANN model\n",
        "h1 = model.add(Dense(6,activation=\"relu\",input_dim=4))\n",
        "h2=model.add(Dense(5,activation=\"relu\"))\n",
        "h3=model.add(Dense(7,activation=\"relu\"))\n",
        "o = model.add(Dense(3,activation=\"softmax\"))\n"
      ],
      "execution_count": 0,
      "outputs": [
        {
          "output_type": "stream",
          "text": [
            "W0820 05:47:59.550985 140410464614272 deprecation_wrapper.py:119] From /usr/local/lib/python3.6/dist-packages/keras/backend/tensorflow_backend.py:517: The name tf.placeholder is deprecated. Please use tf.compat.v1.placeholder instead.\n",
            "\n",
            "W0820 05:47:59.569705 140410464614272 deprecation_wrapper.py:119] From /usr/local/lib/python3.6/dist-packages/keras/backend/tensorflow_backend.py:4138: The name tf.random_uniform is deprecated. Please use tf.random.uniform instead.\n",
            "\n"
          ],
          "name": "stderr"
        }
      ]
    },
    {
      "cell_type": "code",
      "metadata": {
        "id": "Qy8PELp1lOD7",
        "colab_type": "code",
        "outputId": "8d3d9105-6ed2-400e-e88e-333e1d120a74",
        "colab": {
          "base_uri": "https://localhost:8080/",
          "height": 371
        }
      },
      "source": [
        "#compiling the ANN model and displaying the model summary\n",
        "model.compile(loss=\"categorical_crossentropy\",optimizer=\"Adam\",metrics=['accuracy'])\n",
        "model.summary()"
      ],
      "execution_count": 0,
      "outputs": [
        {
          "output_type": "stream",
          "text": [
            "W0820 05:48:03.582338 140410464614272 deprecation_wrapper.py:119] From /usr/local/lib/python3.6/dist-packages/keras/optimizers.py:790: The name tf.train.Optimizer is deprecated. Please use tf.compat.v1.train.Optimizer instead.\n",
            "\n",
            "W0820 05:48:03.625198 140410464614272 deprecation_wrapper.py:119] From /usr/local/lib/python3.6/dist-packages/keras/backend/tensorflow_backend.py:3295: The name tf.log is deprecated. Please use tf.math.log instead.\n",
            "\n"
          ],
          "name": "stderr"
        },
        {
          "output_type": "stream",
          "text": [
            "_________________________________________________________________\n",
            "Layer (type)                 Output Shape              Param #   \n",
            "=================================================================\n",
            "dense_1 (Dense)              (None, 6)                 30        \n",
            "_________________________________________________________________\n",
            "dense_2 (Dense)              (None, 5)                 35        \n",
            "_________________________________________________________________\n",
            "dense_3 (Dense)              (None, 7)                 42        \n",
            "_________________________________________________________________\n",
            "dense_4 (Dense)              (None, 3)                 24        \n",
            "=================================================================\n",
            "Total params: 131\n",
            "Trainable params: 131\n",
            "Non-trainable params: 0\n",
            "_________________________________________________________________\n"
          ],
          "name": "stdout"
        }
      ]
    },
    {
      "cell_type": "code",
      "metadata": {
        "id": "1bmVsRmQlUS-",
        "colab_type": "code",
        "outputId": "aff3f93d-cbeb-49ea-90e7-e4f2ddbd7236",
        "colab": {
          "base_uri": "https://localhost:8080/",
          "height": 1000
        }
      },
      "source": [
        "#fitting the model with the training set\n",
        "model.fit(x_train,y_train,batch_size=10,epochs=50)"
      ],
      "execution_count": 0,
      "outputs": [
        {
          "output_type": "stream",
          "text": [
            "W0820 05:48:08.935830 140410464614272 deprecation.py:323] From /usr/local/lib/python3.6/dist-packages/tensorflow/python/ops/math_grad.py:1250: add_dispatch_support.<locals>.wrapper (from tensorflow.python.ops.array_ops) is deprecated and will be removed in a future version.\n",
            "Instructions for updating:\n",
            "Use tf.where in 2.0, which has the same broadcast rule as np.where\n",
            "W0820 05:48:09.024781 140410464614272 deprecation_wrapper.py:119] From /usr/local/lib/python3.6/dist-packages/keras/backend/tensorflow_backend.py:986: The name tf.assign_add is deprecated. Please use tf.compat.v1.assign_add instead.\n",
            "\n"
          ],
          "name": "stderr"
        },
        {
          "output_type": "stream",
          "text": [
            "Epoch 1/50\n",
            "105/105 [==============================] - 1s 8ms/step - loss: 1.1295 - acc: 0.3714\n",
            "Epoch 2/50\n",
            "105/105 [==============================] - 0s 224us/step - loss: 1.1068 - acc: 0.4190\n",
            "Epoch 3/50\n",
            "105/105 [==============================] - 0s 213us/step - loss: 1.0893 - acc: 0.4381\n",
            "Epoch 4/50\n",
            "105/105 [==============================] - 0s 218us/step - loss: 1.0756 - acc: 0.4381\n",
            "Epoch 5/50\n",
            "105/105 [==============================] - 0s 192us/step - loss: 1.0630 - acc: 0.4571\n",
            "Epoch 6/50\n",
            "105/105 [==============================] - 0s 200us/step - loss: 1.0512 - acc: 0.5048\n",
            "Epoch 7/50\n",
            "105/105 [==============================] - 0s 177us/step - loss: 1.0381 - acc: 0.5429\n",
            "Epoch 8/50\n",
            "105/105 [==============================] - 0s 166us/step - loss: 1.0252 - acc: 0.5714\n",
            "Epoch 9/50\n",
            "105/105 [==============================] - 0s 187us/step - loss: 1.0114 - acc: 0.6000\n",
            "Epoch 10/50\n",
            "105/105 [==============================] - 0s 201us/step - loss: 0.9964 - acc: 0.6381\n",
            "Epoch 11/50\n",
            "105/105 [==============================] - 0s 177us/step - loss: 0.9803 - acc: 0.7048\n",
            "Epoch 12/50\n",
            "105/105 [==============================] - 0s 212us/step - loss: 0.9629 - acc: 0.7333\n",
            "Epoch 13/50\n",
            "105/105 [==============================] - 0s 222us/step - loss: 0.9445 - acc: 0.7619\n",
            "Epoch 14/50\n",
            "105/105 [==============================] - 0s 200us/step - loss: 0.9248 - acc: 0.7619\n",
            "Epoch 15/50\n",
            "105/105 [==============================] - 0s 209us/step - loss: 0.9020 - acc: 0.7810\n",
            "Epoch 16/50\n",
            "105/105 [==============================] - 0s 223us/step - loss: 0.8772 - acc: 0.8000\n",
            "Epoch 17/50\n",
            "105/105 [==============================] - 0s 202us/step - loss: 0.8530 - acc: 0.8000\n",
            "Epoch 18/50\n",
            "105/105 [==============================] - 0s 222us/step - loss: 0.8252 - acc: 0.8000\n",
            "Epoch 19/50\n",
            "105/105 [==============================] - 0s 187us/step - loss: 0.7957 - acc: 0.8095\n",
            "Epoch 20/50\n",
            "105/105 [==============================] - 0s 179us/step - loss: 0.7628 - acc: 0.8095\n",
            "Epoch 21/50\n",
            "105/105 [==============================] - 0s 191us/step - loss: 0.7308 - acc: 0.8190\n",
            "Epoch 22/50\n",
            "105/105 [==============================] - 0s 165us/step - loss: 0.6954 - acc: 0.8286\n",
            "Epoch 23/50\n",
            "105/105 [==============================] - 0s 176us/step - loss: 0.6599 - acc: 0.8381\n",
            "Epoch 24/50\n",
            "105/105 [==============================] - 0s 169us/step - loss: 0.6244 - acc: 0.8476\n",
            "Epoch 25/50\n",
            "105/105 [==============================] - 0s 176us/step - loss: 0.5909 - acc: 0.8476\n",
            "Epoch 26/50\n",
            "105/105 [==============================] - 0s 176us/step - loss: 0.5595 - acc: 0.8476\n",
            "Epoch 27/50\n",
            "105/105 [==============================] - 0s 183us/step - loss: 0.5293 - acc: 0.8476\n",
            "Epoch 28/50\n",
            "105/105 [==============================] - 0s 171us/step - loss: 0.5035 - acc: 0.8667\n",
            "Epoch 29/50\n",
            "105/105 [==============================] - 0s 161us/step - loss: 0.4778 - acc: 0.8762\n",
            "Epoch 30/50\n",
            "105/105 [==============================] - 0s 181us/step - loss: 0.4548 - acc: 0.8857\n",
            "Epoch 31/50\n",
            "105/105 [==============================] - 0s 205us/step - loss: 0.4347 - acc: 0.8857\n",
            "Epoch 32/50\n",
            "105/105 [==============================] - 0s 195us/step - loss: 0.4162 - acc: 0.8857\n",
            "Epoch 33/50\n",
            "105/105 [==============================] - 0s 172us/step - loss: 0.3990 - acc: 0.8952\n",
            "Epoch 34/50\n",
            "105/105 [==============================] - 0s 170us/step - loss: 0.3833 - acc: 0.8952\n",
            "Epoch 35/50\n",
            "105/105 [==============================] - 0s 175us/step - loss: 0.3686 - acc: 0.8952\n",
            "Epoch 36/50\n",
            "105/105 [==============================] - 0s 186us/step - loss: 0.3555 - acc: 0.9048\n",
            "Epoch 37/50\n",
            "105/105 [==============================] - 0s 184us/step - loss: 0.3435 - acc: 0.9048\n",
            "Epoch 38/50\n",
            "105/105 [==============================] - 0s 212us/step - loss: 0.3329 - acc: 0.9048\n",
            "Epoch 39/50\n",
            "105/105 [==============================] - 0s 210us/step - loss: 0.3229 - acc: 0.9048\n",
            "Epoch 40/50\n",
            "105/105 [==============================] - 0s 175us/step - loss: 0.3135 - acc: 0.9048\n",
            "Epoch 41/50\n",
            "105/105 [==============================] - 0s 168us/step - loss: 0.3045 - acc: 0.9048\n",
            "Epoch 42/50\n",
            "105/105 [==============================] - 0s 174us/step - loss: 0.2960 - acc: 0.9048\n",
            "Epoch 43/50\n",
            "105/105 [==============================] - 0s 171us/step - loss: 0.2881 - acc: 0.9048\n",
            "Epoch 44/50\n",
            "105/105 [==============================] - 0s 180us/step - loss: 0.2793 - acc: 0.9048\n",
            "Epoch 45/50\n",
            "105/105 [==============================] - 0s 162us/step - loss: 0.2718 - acc: 0.9048\n",
            "Epoch 46/50\n",
            "105/105 [==============================] - 0s 169us/step - loss: 0.2650 - acc: 0.9143\n",
            "Epoch 47/50\n",
            "105/105 [==============================] - 0s 172us/step - loss: 0.2586 - acc: 0.9143\n",
            "Epoch 48/50\n",
            "105/105 [==============================] - 0s 192us/step - loss: 0.2523 - acc: 0.9143\n",
            "Epoch 49/50\n",
            "105/105 [==============================] - 0s 184us/step - loss: 0.2450 - acc: 0.9143\n",
            "Epoch 50/50\n",
            "105/105 [==============================] - 0s 186us/step - loss: 0.2392 - acc: 0.9238\n"
          ],
          "name": "stdout"
        },
        {
          "output_type": "execute_result",
          "data": {
            "text/plain": [
              "<keras.callbacks.History at 0x7fb399eb5ac8>"
            ]
          },
          "metadata": {
            "tags": []
          },
          "execution_count": 11
        }
      ]
    },
    {
      "cell_type": "code",
      "metadata": {
        "id": "6QIRp0GVl75O",
        "colab_type": "code",
        "outputId": "9e9011f6-1256-43c5-c411-ba37eccea4a7",
        "colab": {
          "base_uri": "https://localhost:8080/",
          "height": 52
        }
      },
      "source": [
        "#evaluating the model with training set\n",
        "score = model.evaluate(x_test,y_test, verbose=0)\n",
        "print('Test loss:', score[0])\n",
        "print('Test accuracy:', score[1])"
      ],
      "execution_count": 0,
      "outputs": [
        {
          "output_type": "stream",
          "text": [
            "Test loss: 0.21814162135124207\n",
            "Test accuracy: 0.9111111137602065\n"
          ],
          "name": "stdout"
        }
      ]
    }
  ]
}