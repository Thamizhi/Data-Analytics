{
  "nbformat": 4,
  "nbformat_minor": 0,
  "metadata": {
    "colab": {
      "name": "MDS_16Z213.ipynb",
      "version": "0.3.2",
      "provenance": [],
      "include_colab_link": true
    },
    "kernelspec": {
      "name": "python3",
      "display_name": "Python 3"
    }
  },
  "cells": [
    {
      "cell_type": "markdown",
      "metadata": {
        "id": "view-in-github",
        "colab_type": "text"
      },
      "source": [
        "<a href=\"https://colab.research.google.com/github/Thamizhi/Data-Analytics/blob/master/Multi-dimensionalScaling.ipynb\" target=\"_parent\"><img src=\"https://colab.research.google.com/assets/colab-badge.svg\" alt=\"Open In Colab\"/></a>"
      ]
    },
    {
      "cell_type": "code",
      "metadata": {
        "id": "FuorcPR9aCsV",
        "colab_type": "code",
        "outputId": "5d2a81c6-d115-4d59-ff88-21cd84154030",
        "colab": {
          "base_uri": "https://localhost:8080/",
          "height": 286
        }
      },
      "source": [
        "import matplotlib.pyplot as plt\n",
        "data_pts = np.array([[1,1],[2,1],[2,2],[3,2]])\n",
        "\n",
        "x_pts = data_pts[:,0]\n",
        "y_pts = data_pts[:,1]\n",
        "x_mean=np.average(x_pts)\n",
        "y_mean=np.average(y_pts)\n",
        "data_mean = np.array([[x_mean,y_mean],[x_mean,y_mean],[x_mean,y_mean],[x_mean,y_mean]])\n",
        "x_matrix = data_pts - data_mean #mean_subtracted\n",
        "plt.scatter(x_pts,y_pts)"
      ],
      "execution_count": 0,
      "outputs": [
        {
          "output_type": "execute_result",
          "data": {
            "text/plain": [
              "<matplotlib.collections.PathCollection at 0x7f8407523550>"
            ]
          },
          "metadata": {
            "tags": []
          },
          "execution_count": 41
        },
        {
          "output_type": "display_data",
          "data": {
            "image/png": "[encoded data removed]",
            "text/plain": [
              "<Figure size 432x288 with 1 Axes>"
            ]
          },
          "metadata": {
            "tags": []
          }
        }
      ]
    },
    {
      "cell_type": "code",
      "metadata": {
        "id": "HbMX6T_KShTy",
        "colab_type": "code",
        "outputId": "a6101d2c-5bc0-4a18-8064-31248a387e3e",
        "colab": {
          "base_uri": "https://localhost:8080/",
          "height": 286
        }
      },
      "source": [
        "import numpy as np\n",
        "x_transpose = []\n",
        "#x_matrix = [[-1,-0.5],[0,-0.5],[0,0.5],[1,0.5]]\n",
        "#x_matrix_array = np.array([[-1,-0.5],[0,-0.5],[0,0.5],[1,0.5]])\n",
        "x_transpose = np.transpose(x_matrix)\n",
        "x_pts_ms = x_matrix[:,0]\n",
        "y_pts_ms = x_matrix[:,1]\n",
        "plt.scatter(x_pts_ms,y_pts_ms)\n",
        "\n"
      ],
      "execution_count": 0,
      "outputs": [
        {
          "output_type": "execute_result",
          "data": {
            "text/plain": [
              "<matplotlib.collections.PathCollection at 0x7f84074837b8>"
            ]
          },
          "metadata": {
            "tags": []
          },
          "execution_count": 42
        },
        {
          "output_type": "display_data",
          "data": {
            "image/png": "[encoded data removed]",
            "text/plain": [
              "<Figure size 432x288 with 1 Axes>"
            ]
          },
          "metadata": {
            "tags": []
          }
        }
      ]
    },
    {
      "cell_type": "code",
      "metadata": {
        "id": "e1JhndGvVUIT",
        "colab_type": "code",
        "outputId": "e5ae6e26-706d-4346-8e89-cbc1bb96c754",
        "colab": {
          "base_uri": "https://localhost:8080/",
          "height": 87
        }
      },
      "source": [
        "xx_trans = np.dot(x_matrix,x_transpose)\n",
        "xx_trans"
      ],
      "execution_count": 0,
      "outputs": [
        {
          "output_type": "execute_result",
          "data": {
            "text/plain": [
              "array([[ 1.25,  0.25, -0.25, -1.25],\n",
              "       [ 0.25,  0.25, -0.25, -0.25],\n",
              "       [-0.25, -0.25,  0.25,  0.25],\n",
              "       [-1.25, -0.25,  0.25,  1.25]])"
            ]
          },
          "metadata": {
            "tags": []
          },
          "execution_count": 43
        }
      ]
    },
    {
      "cell_type": "code",
      "metadata": {
        "id": "AtbUv60HXfWW",
        "colab_type": "code",
        "colab": {}
      },
      "source": [
        "value,vector = np.linalg.eig(xx_trans)\n"
      ],
      "execution_count": 0,
      "outputs": []
    },
    {
      "cell_type": "code",
      "metadata": {
        "id": "mE281XMaYWmf",
        "colab_type": "code",
        "outputId": "288d5fd7-cfc4-4200-95ba-abbd7b4cd7c1",
        "colab": {
          "base_uri": "https://localhost:8080/",
          "height": 34
        }
      },
      "source": [
        "eigen_value = value[0]\n",
        "eigen_vector = vector[:,0]"
      ],
      "execution_count": 0,
      "outputs": [
        {
          "output_type": "execute_result",
          "data": {
            "text/plain": [
              "array([-0.68819096, -0.16245985,  0.16245985,  0.68819096])"
            ]
          },
          "metadata": {
            "tags": []
          },
          "execution_count": 45
        }
      ]
    },
    {
      "cell_type": "code",
      "metadata": {
        "id": "CHAzGeuDdBgf",
        "colab_type": "code",
        "outputId": "002816d6-74ca-40e0-ba19-ab2cc728bdcf",
        "colab": {
          "base_uri": "https://localhost:8080/",
          "height": 34
        }
      },
      "source": [
        "sqrt_eigenval = np.sqrt(eigen_value)\n",
        "mds_projection = eigen_vector*sqrt_eigenval\n",
        "mds_projection"
      ],
      "execution_count": 0,
      "outputs": [
        {
          "output_type": "execute_result",
          "data": {
            "text/plain": [
              "array([-1.11351636, -0.26286556,  0.26286556,  1.11351636])"
            ]
          },
          "metadata": {
            "tags": []
          },
          "execution_count": 48
        }
      ]
    },
    {
      "cell_type": "code",
      "metadata": {
        "id": "oG9nyl3geXa2",
        "colab_type": "code",
        "colab": {}
      },
      "source": [
        "#distance matrix of y \n",
        "from sklearn.metrics.pairwise import euclidean_distances\n",
        "dist_y = euclidean_distances(mds_projection.reshape(-1,1),mds_projection.reshape(-1,1))"
      ],
      "execution_count": 0,
      "outputs": []
    },
    {
      "cell_type": "code",
      "metadata": {
        "id": "yX3Hu2YihJb-",
        "colab_type": "code",
        "outputId": "4a373b4a-bd90-4798-c174-f1e52fc6622c",
        "colab": {
          "base_uri": "https://localhost:8080/",
          "height": 87
        }
      },
      "source": [
        "#distance matrix of x\n",
        "dist_x = euclidean_distances(x_matrix,x_matrix)\n",
        "dist_x"
      ],
      "execution_count": 0,
      "outputs": [
        {
          "output_type": "execute_result",
          "data": {
            "text/plain": [
              "array([[0.        , 1.        , 1.41421356, 2.23606798],\n",
              "       [1.        , 0.        , 1.        , 1.41421356],\n",
              "       [1.41421356, 1.        , 0.        , 1.        ],\n",
              "       [2.23606798, 1.41421356, 1.        , 0.        ]])"
            ]
          },
          "metadata": {
            "tags": []
          },
          "execution_count": 68
        }
      ]
    },
    {
      "cell_type": "code",
      "metadata": {
        "id": "Y5kmZEpAheKr",
        "colab_type": "code",
        "outputId": "39338adf-37b8-4d91-fcc9-b7e324c8847a",
        "colab": {
          "base_uri": "https://localhost:8080/",
          "height": 339
        }
      },
      "source": [
        "#shepherds plot\n",
        "plt.scatter(dist_x,dist_y)\n",
        "plt.plot(dist_x,dist_y)"
      ],
      "execution_count": 0,
      "outputs": [
        {
          "output_type": "execute_result",
          "data": {
            "text/plain": [
              "[<matplotlib.lines.Line2D at 0x7f83fc5f6ba8>,\n",
              " <matplotlib.lines.Line2D at 0x7f83fc5c6160>,\n",
              " <matplotlib.lines.Line2D at 0x7f83fc5c62b0>,\n",
              " <matplotlib.lines.Line2D at 0x7f83fc5c6400>]"
            ]
          },
          "metadata": {
            "tags": []
          },
          "execution_count": 67
        },
        {
          "output_type": "display_data",
          "data": {
            "image/png": "[encoded data removed]",
            "text/plain": [
              "<Figure size 432x288 with 1 Axes>"
            ]
          },
          "metadata": {
            "tags": []
          }
        }
      ]
    },
    {
      "cell_type": "code",
      "metadata": {
        "id": "zHzXVvxViKgk",
        "colab_type": "code",
        "outputId": "a895dab5-4cfc-43b9-9ce7-7752b57f53a5",
        "colab": {
          "base_uri": "https://localhost:8080/",
          "height": 322
        }
      },
      "source": [
        "#error plot\n",
        "delta_dist = (dist_y-dist_x)/dist_x\n",
        "plt.scatter(dist_x,delta_dist)"
      ],
      "execution_count": 0,
      "outputs": [
        {
          "output_type": "stream",
          "text": [
            "/usr/local/lib/python3.6/dist-packages/ipykernel_launcher.py:1: RuntimeWarning: invalid value encountered in true_divide\n",
            "  \"\"\"Entry point for launching an IPython kernel.\n"
          ],
          "name": "stderr"
        },
        {
          "output_type": "execute_result",
          "data": {
            "text/plain": [
              "<matplotlib.collections.PathCollection at 0x7f83fc6a75f8>"
            ]
          },
          "metadata": {
            "tags": []
          },
          "execution_count": 64
        },
        {
          "output_type": "display_data",
          "data": {
            "image/png": "[encoded data removed]",
            "text/plain": [
              "<Figure size 432x288 with 1 Axes>"
            ]
          },
          "metadata": {
            "tags": []
          }
        }
      ]
    }
  ]
}